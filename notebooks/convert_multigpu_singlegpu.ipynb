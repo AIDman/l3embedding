{
 "cells": [
  {
   "cell_type": "code",
   "execution_count": 4,
   "metadata": {},
   "outputs": [
    {
     "name": "stderr",
     "output_type": "stream",
     "text": [
      "Using TensorFlow backend.\n"
     ]
    }
   ],
   "source": [
    "import keras\n",
    "import os\n",
    "import glob"
   ]
  },
  {
   "cell_type": "code",
   "execution_count": 11,
   "metadata": {},
   "outputs": [],
   "source": [
    "model_dirs  = [\n",
    "# '/scratch/jtc440/sonyc-usc/embedding/environmental/cnn_L3_kapredbinputbn/20180905221614']\n",
    "#               '/scratch/hhw230/sonyc-usc/embedding/environmental/cnn_L3_melspec1/20180905195208',\n",
    "#               '/scratch/hhw230/sonyc-usc/embedding/music/cnn_L3_melspec1/20180905154214',\n",
    "#    '/scratch/js7561/sonyc-usc/embedding/environmental/cnn_L3_melspec2/20180905191651',\n",
    "#    '/scratch/js7561/sonyc-usc/embedding/music/cnn_L3_melspec2/20180906172059',\n",
    "'/scratch/jtc440/sonyc-usc/embedding/music/cnn_L3_melspec2/20190222215808'\n",
    "    \n",
    "#'/scratch/jtc440/sonyc-usc/embedding/music/cnn_L3_kapredbinputbn/20180905220149',\n",
    "]\n",
    "\n",
    "output_dir = '/scratch/jtc440/l3_output/converted_models'"
   ]
  },
  {
   "cell_type": "code",
   "execution_count": 12,
   "metadata": {},
   "outputs": [
    {
     "name": "stdout",
     "output_type": "stream",
     "text": [
      "/home/jtc440/dev/l3embedding\n"
     ]
    }
   ],
   "source": [
    "cd /home/jtc440/dev/l3embedding/"
   ]
  },
  {
   "cell_type": "code",
   "execution_count": 13,
   "metadata": {},
   "outputs": [],
   "source": [
    "from l3embedding.model import load_model"
   ]
  },
  {
   "cell_type": "code",
   "execution_count": 15,
   "metadata": {},
   "outputs": [
    {
     "name": "stderr",
     "output_type": "stream",
     "text": [
      "/beegfs/jtc440/miniconda3/envs/l3embedding-new/lib/python3.6/site-packages/librosa/filters.py:261: UserWarning: Empty filters detected in mel frequency basis. Some channels will produce empty responses. Try increasing your sampling rate (and fmax) or reducing n_mels.\n",
      "  warnings.warn('Empty filters detected in mel frequency basis. '\n"
     ]
    }
   ],
   "source": [
    "for md in model_dirs:\n",
    "    mt = os.path.basename(os.path.dirname(md))\n",
    "    model_id = md.split('/', 4)[-1]\n",
    "    out_model_dir = os.path.join(output_dir, model_id)\n",
    "    if not os.path.isdir(out_model_dir):\n",
    "        os.makedirs(out_model_dir)\n",
    "        \n",
    "    weight_files = glob.glob(os.path.join(md, '*150.h5'))\n",
    "    \n",
    "    for wf in weight_files:\n",
    "        output_weight_file = os.path.join(out_model_dir, os.path.basename(wf))\n",
    "\n",
    "        if os.path.exists(output_weight_file):\n",
    "            continue\n",
    "        # Load and convert model back to 1 gpu\n",
    "        model = load_model(wf, mt, src_num_gpus=4, tgt_num_gpus=1)\n",
    "        \n",
    "        # Save converted model back to disk\n",
    "        model.save_weights(output_weight_file)"
   ]
  },
  {
   "cell_type": "code",
   "execution_count": null,
   "metadata": {},
   "outputs": [],
   "source": []
  }
 ],
 "metadata": {
  "kernelspec": {
   "display_name": "Python 3",
   "language": "python",
   "name": "python3"
  },
  "language_info": {
   "codemirror_mode": {
    "name": "ipython",
    "version": 3
   },
   "file_extension": ".py",
   "mimetype": "text/x-python",
   "name": "python",
   "nbconvert_exporter": "python",
   "pygments_lexer": "ipython3",
   "version": "3.6.2"
  }
 },
 "nbformat": 4,
 "nbformat_minor": 2
}
