{
 "cells": [
  {
   "cell_type": "code",
   "execution_count": 1,
   "metadata": {},
   "outputs": [
    {
     "name": "stderr",
     "output_type": "stream",
     "text": [
      "Using TensorFlow backend.\n"
     ]
    }
   ],
   "source": [
    "import keras\n",
    "import os"
   ]
  },
  {
   "cell_type": "code",
   "execution_count": 2,
   "metadata": {},
   "outputs": [
    {
     "name": "stdout",
     "output_type": "stream",
     "text": [
      "/Users/justin/Documents/dev/l3embedding\n"
     ]
    }
   ],
   "source": [
    "cd ~/dev/l3embedding/"
   ]
  },
  {
   "cell_type": "code",
   "execution_count": 6,
   "metadata": {},
   "outputs": [],
   "source": [
    "from l3embedding.model import load_embedding, MODELS, load_model"
   ]
  },
  {
   "cell_type": "code",
   "execution_count": 4,
   "metadata": {},
   "outputs": [
    {
     "data": {
      "text/plain": [
       "['cnn_L3_melspec2',\n",
       " 'tiny_L3',\n",
       " 'cnn_L3_kapredbinputbn',\n",
       " 'cnn_L3_melspec1',\n",
       " 'cnn_L3_orig']"
      ]
     },
     "execution_count": 4,
     "metadata": {},
     "output_type": "execute_result"
    }
   ],
   "source": [
    "MODELS.keys()"
   ]
  },
  {
   "cell_type": "code",
   "execution_count": 7,
   "metadata": {},
   "outputs": [],
   "source": [
    "weight_file = '/Users/justin/Downloads/model_checkpoint.150.h5'\n",
    "model_type = 'cnn_L3_melspec1'\n",
    "emb_type = 'audio'"
   ]
  },
  {
   "cell_type": "code",
   "execution_count": 8,
   "metadata": {
    "collapsed": true
   },
   "outputs": [],
   "source": [
    "# LOAD FULL MODEL\n",
    "model = load_model(weight_file, model_type, num_gpus=0, target_num_gpus=None, return_io=False)"
   ]
  },
  {
   "cell_type": "code",
   "execution_count": 9,
   "metadata": {},
   "outputs": [
    {
     "name": "stdout",
     "output_type": "stream",
     "text": [
      "__________________________________________________________________________________________________\n",
      "Layer (type)                    Output Shape         Param #     Connected to                     \n",
      "==================================================================================================\n",
      "input_3 (InputLayer)            (None, 224, 224, 3)  0                                            \n",
      "__________________________________________________________________________________________________\n",
      "input_4 (InputLayer)            (None, 1, 48000)     0                                            \n",
      "__________________________________________________________________________________________________\n",
      "vision_model (Model)            (None, 512)          4693056     input_3[0][0]                    \n",
      "__________________________________________________________________________________________________\n",
      "audio_model (Model)             (None, 512)          9021504     input_4[0][0]                    \n",
      "__________________________________________________________________________________________________\n",
      "concatenate_2 (Concatenate)     (None, 1024)         0           vision_model[1][0]               \n",
      "                                                                 audio_model[1][0]                \n",
      "__________________________________________________________________________________________________\n",
      "dense_3 (Dense)                 (None, 128)          131200      concatenate_2[0][0]              \n",
      "__________________________________________________________________________________________________\n",
      "dense_4 (Dense)                 (None, 2)            258         dense_3[0][0]                    \n",
      "==================================================================================================\n",
      "Total params: 13,846,018\n",
      "Trainable params: 9,508,738\n",
      "Non-trainable params: 4,337,280\n",
      "__________________________________________________________________________________________________\n"
     ]
    }
   ],
   "source": [
    "model.summary()"
   ]
  },
  {
   "cell_type": "code",
   "execution_count": null,
   "metadata": {
    "collapsed": true
   },
   "outputs": [],
   "source": [
    "# Jusrt load rthe embedding\n",
    "embedding = load_embedding(weight_file, model_type, emb_type, num_gpus=0, target_num_gpus=None, return_io=False)"
   ]
  }
 ],
 "metadata": {
  "kernelspec": {
   "display_name": "Python (envsoundcnn)",
   "language": "python",
   "name": "envsoundcnn"
  },
  "language_info": {
   "codemirror_mode": {
    "name": "ipython",
    "version": 2
   },
   "file_extension": ".py",
   "mimetype": "text/x-python",
   "name": "python",
   "nbconvert_exporter": "python",
   "pygments_lexer": "ipython2",
   "version": "2.7.13"
  }
 },
 "nbformat": 4,
 "nbformat_minor": 2
}
